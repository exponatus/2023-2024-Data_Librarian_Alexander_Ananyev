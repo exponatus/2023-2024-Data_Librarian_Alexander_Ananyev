{
 "cells": [
  {
   "cell_type": "code",
   "execution_count": 4,
   "id": "915ed503",
   "metadata": {},
   "outputs": [
    {
     "name": "stdout",
     "output_type": "stream",
     "text": [
      "Titel: A Quick Introduction to Version Control with Git and GitHub\n",
      "Titel Journal: PLOS Computational Biology\n"
     ]
    }
   ],
   "source": [
    "import requests\n",
    "\n",
    "doi = \"10.1371/journal.pcbi.1004668\"\n",
    "\n",
    "base_url = \"https://api.crossref.org/works/\"\n",
    "\n",
    "url = f\"{base_url}{doi}\"\n",
    "\n",
    "response = requests.get(url)\n",
    "\n",
    "if response.status_code == 200:\n",
    "    data = response.json()\n",
    "    title = data['message']['title'][0]\n",
    "    journal_name = data['message']['container-title'][0]\n",
    "    print(\"Titel:\", title)\n",
    "    print(\"Titel Journal:\", journal_name)\n",
    "else:\n",
    "    print(\"Fehler---- API Crossref\")\n",
    "   "
   ]
  },
  {
   "cell_type": "code",
   "execution_count": null,
   "id": "8be08d43",
   "metadata": {},
   "outputs": [],
   "source": []
  }
 ],
 "metadata": {
  "kernelspec": {
   "display_name": "Python 3 (ipykernel)",
   "language": "python",
   "name": "python3"
  },
  "language_info": {
   "codemirror_mode": {
    "name": "ipython",
    "version": 3
   },
   "file_extension": ".py",
   "mimetype": "text/x-python",
   "name": "python",
   "nbconvert_exporter": "python",
   "pygments_lexer": "ipython3",
   "version": "3.11.5"
  }
 },
 "nbformat": 4,
 "nbformat_minor": 5
}
