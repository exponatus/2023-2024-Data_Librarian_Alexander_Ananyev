{
 "cells": [
  {
   "cell_type": "code",
   "execution_count": 5,
   "id": "a8405139",
   "metadata": {},
   "outputs": [
    {
     "name": "stdout",
     "output_type": "stream",
     "text": [
      "Title: A Quick Introduction to Version Control with Git and GitHub\n",
      "Journal Name: PLOS Computational Biology\n"
     ]
    }
   ],
   "source": [
    "import requests\n",
    "\n",
    "doi = \"10.1371/journal.pcbi.1004668\"\n",
    "\n",
    "base_url = \"https://api.crossref.org/works/\"\n",
    "\n",
    "url = f\"{base_url}{doi}\"\n",
    "\n",
    "response = requests.get(url)\n",
    "\n",
    "if response.status_code == 200:\n",
    "    data = response.json()\n",
    "    title = data['message']['title'][0]\n",
    "    journal_name = data['message']['container-title'][0]\n",
    "    print(\"Title:\", title)\n",
    "    print(\"Journal Name:\", journal_name)\n",
    "else:\n",
    "    print(\"Error: Unable to retrieve data from Crossref API\")\n",
    "    "
   ]
  },
  {
   "cell_type": "code",
   "execution_count": null,
   "id": "13c97f4c",
   "metadata": {},
   "outputs": [],
   "source": []
  }
 ],
 "metadata": {
  "kernelspec": {
   "display_name": "Python 3 (ipykernel)",
   "language": "python",
   "name": "python3"
  },
  "language_info": {
   "codemirror_mode": {
    "name": "ipython",
    "version": 3
   },
   "file_extension": ".py",
   "mimetype": "text/x-python",
   "name": "python",
   "nbconvert_exporter": "python",
   "pygments_lexer": "ipython3",
   "version": "3.11.5"
  }
 },
 "nbformat": 4,
 "nbformat_minor": 5
}
